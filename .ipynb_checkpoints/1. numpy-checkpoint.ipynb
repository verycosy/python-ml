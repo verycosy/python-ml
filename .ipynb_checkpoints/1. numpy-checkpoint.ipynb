{
 "cells": [
  {
   "cell_type": "markdown",
   "id": "378e2a08",
   "metadata": {},
   "source": [
    "사이킷런 매개변수 타입이 대부분 넘파이의 ndarray 타입이라 기본적인 넘파이 사용법을 익혀둬야 한다. 70~80%가 데이터 가공 코드고, 나머지가 머신러닝 알고리즘 코드.\n",
    "(넘파이가 친절한 API를 제공하진 않아서 2차원 데이터라면 가공을 위해 판다스를 쓰는 게 나음)"
   ]
  },
  {
   "cell_type": "code",
   "execution_count": 4,
   "id": "b929a329",
   "metadata": {},
   "outputs": [],
   "source": [
    "import sklearn\n",
    "import numpy as np"
   ]
  },
  {
   "cell_type": "code",
   "execution_count": 5,
   "id": "d24cfb66",
   "metadata": {},
   "outputs": [
    {
     "data": {
      "text/plain": [
       "'1.3.0'"
      ]
     },
     "execution_count": 5,
     "metadata": {},
     "output_type": "execute_result"
    }
   ],
   "source": [
    "sklearn.__version__"
   ]
  },
  {
   "cell_type": "code",
   "execution_count": 6,
   "id": "92a7971c",
   "metadata": {},
   "outputs": [
    {
     "name": "stdout",
     "output_type": "stream",
     "text": [
      "1.7.3\n",
      "4.1.0\n"
     ]
    }
   ],
   "source": [
    "import xgboost\n",
    "import lightgbm\n",
    "\n",
    "print(xgboost.__version__)\n",
    "print(lightgbm.__version__)"
   ]
  },
  {
   "cell_type": "markdown",
   "id": "492f05dd",
   "metadata": {},
   "source": [
    "n dimension array\n",
    "요소들은 모두 같은 타입이어야 함. 정수, 실수가 섞여있으면 정수를 실수로 자동 형변환"
   ]
  },
  {
   "cell_type": "code",
   "execution_count": 12,
   "id": "4f4d4a91",
   "metadata": {},
   "outputs": [
    {
     "name": "stdout",
     "output_type": "stream",
     "text": [
      "[[1 2 3]\n",
      " [2 3 4]]\n"
     ]
    }
   ],
   "source": [
    "array1 = np.array([1,2,3]) # 파이썬 list\n",
    "array2 = np.array([\n",
    "    array1, # 혹은 ndarray\n",
    "    [2,3,4]\n",
    "])\n",
    "print(array2)"
   ]
  },
  {
   "cell_type": "markdown",
   "id": "3d867268",
   "metadata": {},
   "source": [
    "ndarray의 shape는 행, 열, 높이 단위로 부여되는 게 아니라\n",
    "axis0, axis1, axis2처럼 axis 단위로 부여됨"
   ]
  },
  {
   "cell_type": "code",
   "execution_count": 13,
   "id": "bb555455",
   "metadata": {},
   "outputs": [
    {
     "data": {
      "text/plain": [
       "(3,)"
      ]
     },
     "execution_count": 13,
     "metadata": {},
     "output_type": "execute_result"
    }
   ],
   "source": [
    "array1.shape # axis0 = 3"
   ]
  },
  {
   "cell_type": "code",
   "execution_count": 16,
   "id": "155071b3",
   "metadata": {},
   "outputs": [
    {
     "data": {
      "text/plain": [
       "(2, 3)"
      ]
     },
     "execution_count": 16,
     "metadata": {},
     "output_type": "execute_result"
    }
   ],
   "source": [
    "array2.shape # axis0 = 2, axis1 = 3"
   ]
  },
  {
   "cell_type": "code",
   "execution_count": 17,
   "id": "305f68d1",
   "metadata": {},
   "outputs": [
    {
     "data": {
      "text/plain": [
       "1"
      ]
     },
     "execution_count": 17,
     "metadata": {},
     "output_type": "execute_result"
    }
   ],
   "source": [
    "array1.ndim"
   ]
  },
  {
   "cell_type": "code",
   "execution_count": 18,
   "id": "f3de757e",
   "metadata": {},
   "outputs": [
    {
     "data": {
      "text/plain": [
       "2"
      ]
     },
     "execution_count": 18,
     "metadata": {},
     "output_type": "execute_result"
    }
   ],
   "source": [
    "array2.ndim"
   ]
  },
  {
   "cell_type": "code",
   "execution_count": 20,
   "id": "d8c5215d",
   "metadata": {},
   "outputs": [
    {
     "data": {
      "text/plain": [
       "dtype('int64')"
      ]
     },
     "execution_count": 20,
     "metadata": {},
     "output_type": "execute_result"
    }
   ],
   "source": [
    "array2.dtype"
   ]
  },
  {
   "cell_type": "code",
   "execution_count": 28,
   "id": "bddfb9cb",
   "metadata": {},
   "outputs": [
    {
     "name": "stdout",
     "output_type": "stream",
     "text": [
      "[[1 2 3]\n",
      " [2 3 4]]\n",
      "int32\n",
      "<class 'numpy.ndarray'>\n",
      "<class 'list'>\n"
     ]
    }
   ],
   "source": [
    "# 대용량 데이터에서 메모리 절약을 위해\n",
    "array_int32 = array2.astype(\"int32\")\n",
    "print(array_int32)\n",
    "print(array_int32.dtype)\n",
    "print(type(array_int32))\n",
    "\n",
    "sample_list = [1,2,3]\n",
    "print(type(sample_list))"
   ]
  },
  {
   "cell_type": "code",
   "execution_count": 26,
   "id": "ab43a94e",
   "metadata": {},
   "outputs": [
    {
     "name": "stdout",
     "output_type": "stream",
     "text": [
      "array1: 1차원, array2: 2차원\n"
     ]
    }
   ],
   "source": [
    "print(f\"array1: {array1.ndim}차원, array2: {array2.ndim}차원\")"
   ]
  },
  {
   "cell_type": "code",
   "execution_count": 31,
   "id": "1e905a07",
   "metadata": {},
   "outputs": [
    {
     "name": "stdout",
     "output_type": "stream",
     "text": [
      "[1.  2.1]\n",
      "float64\n"
     ]
    }
   ],
   "source": [
    "array3 = np.array([1, 2.1])\n",
    "print(array3)\n",
    "print(array3.dtype)"
   ]
  },
  {
   "cell_type": "code",
   "execution_count": 33,
   "id": "b082c9df",
   "metadata": {},
   "outputs": [
    {
     "name": "stdout",
     "output_type": "stream",
     "text": [
      "[0 1 2 3 4 5 6 7 8 9]\n"
     ]
    }
   ],
   "source": [
    "sequence_array = np.arange(10)\n",
    "print(sequence_array)"
   ]
  },
  {
   "cell_type": "code",
   "execution_count": 34,
   "id": "18eb0620",
   "metadata": {},
   "outputs": [
    {
     "name": "stdout",
     "output_type": "stream",
     "text": [
      "[[0 0]\n",
      " [0 0]\n",
      " [0 0]]\n"
     ]
    }
   ],
   "source": [
    "zero_array = np.zeros((3, 2), dtype='int32')\n",
    "print(zero_array)"
   ]
  },
  {
   "cell_type": "code",
   "execution_count": 36,
   "id": "2b674adc",
   "metadata": {},
   "outputs": [
    {
     "name": "stdout",
     "output_type": "stream",
     "text": [
      "[[1. 1.]\n",
      " [1. 1.]\n",
      " [1. 1.]]\n"
     ]
    }
   ],
   "source": [
    "one_array = np.ones((3, 2))\n",
    "print(one_array)"
   ]
  },
  {
   "cell_type": "code",
   "execution_count": 37,
   "id": "7d395dd2",
   "metadata": {},
   "outputs": [
    {
     "name": "stdout",
     "output_type": "stream",
     "text": [
      "[[0 1]\n",
      " [2 3]\n",
      " [4 5]\n",
      " [6 7]\n",
      " [8 9]]\n"
     ]
    }
   ],
   "source": [
    "print(sequence_array.reshape(5, 2))"
   ]
  },
  {
   "cell_type": "code",
   "execution_count": 38,
   "id": "93df5213",
   "metadata": {},
   "outputs": [
    {
     "name": "stdout",
     "output_type": "stream",
     "text": [
      "[[0 1 2 3 4]\n",
      " [5 6 7 8 9]]\n"
     ]
    }
   ],
   "source": [
    "print(sequence_array.reshape(-1, 5))"
   ]
  },
  {
   "cell_type": "code",
   "execution_count": 39,
   "id": "53270879",
   "metadata": {},
   "outputs": [
    {
     "name": "stdout",
     "output_type": "stream",
     "text": [
      "[0 1 2 3 4 5 6 7 8 9]\n"
     ]
    }
   ],
   "source": [
    "print(sequence_array.reshape(-1, 5).reshape(-1,))"
   ]
  },
  {
   "cell_type": "code",
   "execution_count": 40,
   "id": "71ab1010",
   "metadata": {},
   "outputs": [
    {
     "name": "stdout",
     "output_type": "stream",
     "text": [
      "[[0]\n",
      " [1]\n",
      " [2]\n",
      " [3]\n",
      " [4]\n",
      " [5]\n",
      " [6]\n",
      " [7]\n",
      " [8]\n",
      " [9]]\n"
     ]
    }
   ],
   "source": [
    "print(sequence_array.reshape(-1, 5).reshape(-1, 1))"
   ]
  },
  {
   "cell_type": "code",
   "execution_count": 41,
   "id": "8a491a41",
   "metadata": {},
   "outputs": [
    {
     "ename": "ValueError",
     "evalue": "cannot reshape array of size 10 into shape (4,3)",
     "output_type": "error",
     "traceback": [
      "\u001b[0;31m---------------------------------------------------------------------------\u001b[0m",
      "\u001b[0;31mValueError\u001b[0m                                Traceback (most recent call last)",
      "Cell \u001b[0;32mIn[41], line 1\u001b[0m\n\u001b[0;32m----> 1\u001b[0m sequence_array\u001b[38;5;241m.\u001b[39mreshape(\u001b[38;5;241m4\u001b[39m,\u001b[38;5;241m3\u001b[39m)\n",
      "\u001b[0;31mValueError\u001b[0m: cannot reshape array of size 10 into shape (4,3)"
     ]
    }
   ],
   "source": [
    "sequence_array.reshape(4,3)"
   ]
  },
  {
   "cell_type": "code",
   "execution_count": 42,
   "id": "3453890a",
   "metadata": {},
   "outputs": [
    {
     "data": {
      "text/plain": [
       "[0, 1, 2, 3, 4, 5, 6, 7, 8, 9]"
      ]
     },
     "execution_count": 42,
     "metadata": {},
     "output_type": "execute_result"
    }
   ],
   "source": [
    "sequence_array.tolist()"
   ]
  },
  {
   "cell_type": "code",
   "execution_count": 44,
   "id": "48fc628b",
   "metadata": {},
   "outputs": [
    {
     "name": "stdout",
     "output_type": "stream",
     "text": [
      "3\n",
      "<class 'numpy.int64'>\n"
     ]
    }
   ],
   "source": [
    "arr1 = np.arange(start=1, stop=10)\n",
    "value1 = arr1[2]\n",
    "print(value1)\n",
    "print(type(value1))"
   ]
  },
  {
   "cell_type": "code",
   "execution_count": 45,
   "id": "4f62a17b",
   "metadata": {},
   "outputs": [
    {
     "name": "stdout",
     "output_type": "stream",
     "text": [
      "8\n",
      "[1 2 3]\n"
     ]
    }
   ],
   "source": [
    "print(arr1[-2]);\n",
    "print(arr1[:3]);"
   ]
  },
  {
   "cell_type": "code",
   "execution_count": 46,
   "id": "7c7ea443",
   "metadata": {},
   "outputs": [
    {
     "name": "stdout",
     "output_type": "stream",
     "text": [
      "[[1 2 3]\n",
      " [4 5 6]\n",
      " [7 8 9]]\n"
     ]
    }
   ],
   "source": [
    "arr2 = arr1.reshape(3,3)\n",
    "print(arr2)"
   ]
  },
  {
   "cell_type": "code",
   "execution_count": 47,
   "id": "0829d2dd",
   "metadata": {},
   "outputs": [
    {
     "data": {
      "text/plain": [
       "array([[2, 3],\n",
       "       [5, 6]])"
      ]
     },
     "execution_count": 47,
     "metadata": {},
     "output_type": "execute_result"
    }
   ],
   "source": [
    "arr2[:2, 1:]"
   ]
  },
  {
   "cell_type": "code",
   "execution_count": 48,
   "id": "fd8705c7",
   "metadata": {},
   "outputs": [
    {
     "data": {
      "text/plain": [
       "array([[1, 2, 3],\n",
       "       [4, 5, 6]])"
      ]
     },
     "execution_count": 48,
     "metadata": {},
     "output_type": "execute_result"
    }
   ],
   "source": [
    "arr2[[0,1]]"
   ]
  },
  {
   "cell_type": "code",
   "execution_count": 49,
   "id": "8d85a328",
   "metadata": {},
   "outputs": [
    {
     "data": {
      "text/plain": [
       "array([[1],\n",
       "       [4]])"
      ]
     },
     "execution_count": 49,
     "metadata": {},
     "output_type": "execute_result"
    }
   ],
   "source": [
    "arr2[[0,1],:1]"
   ]
  },
  {
   "cell_type": "code",
   "execution_count": 50,
   "id": "fd4e2fe2",
   "metadata": {},
   "outputs": [
    {
     "data": {
      "text/plain": [
       "array([6, 7, 8, 9])"
      ]
     },
     "execution_count": 50,
     "metadata": {},
     "output_type": "execute_result"
    }
   ],
   "source": [
    "arr2[arr2 > 5]"
   ]
  },
  {
   "cell_type": "code",
   "execution_count": 51,
   "id": "f3176299",
   "metadata": {},
   "outputs": [
    {
     "data": {
      "text/plain": [
       "array([[False, False, False],\n",
       "       [False, False,  True],\n",
       "       [ True,  True,  True]])"
      ]
     },
     "execution_count": 51,
     "metadata": {},
     "output_type": "execute_result"
    }
   ],
   "source": [
    "arr2 > 5"
   ]
  },
  {
   "cell_type": "code",
   "execution_count": 52,
   "id": "6ec7aa18",
   "metadata": {},
   "outputs": [
    {
     "data": {
      "text/plain": [
       "numpy.ndarray"
      ]
     },
     "execution_count": 52,
     "metadata": {},
     "output_type": "execute_result"
    }
   ],
   "source": [
    "type(arr2 > 5)"
   ]
  },
  {
   "cell_type": "code",
   "execution_count": 59,
   "id": "b15f6ff5",
   "metadata": {},
   "outputs": [],
   "source": [
    "boolean_indexes = np.array([False, True, False, False, False, False,False, False, False])"
   ]
  },
  {
   "cell_type": "code",
   "execution_count": 60,
   "id": "d42a01c7",
   "metadata": {},
   "outputs": [
    {
     "data": {
      "text/plain": [
       "array([2])"
      ]
     },
     "execution_count": 60,
     "metadata": {},
     "output_type": "execute_result"
    }
   ],
   "source": [
    "arr1[boolean_indexes]"
   ]
  },
  {
   "cell_type": "code",
   "execution_count": 61,
   "id": "22f7a485",
   "metadata": {},
   "outputs": [
    {
     "data": {
      "text/plain": [
       "array([9, 8, 7, 6, 5, 4, 3, 2, 1])"
      ]
     },
     "execution_count": 61,
     "metadata": {},
     "output_type": "execute_result"
    }
   ],
   "source": [
    "arr1[::-1]"
   ]
  },
  {
   "cell_type": "code",
   "execution_count": 62,
   "id": "307124a5",
   "metadata": {},
   "outputs": [],
   "source": [
    "org_array = np.array([3,1,9,5])"
   ]
  },
  {
   "cell_type": "code",
   "execution_count": 63,
   "id": "3a4e51fc",
   "metadata": {},
   "outputs": [
    {
     "name": "stdout",
     "output_type": "stream",
     "text": [
      "[1 3 5 9]\n"
     ]
    }
   ],
   "source": [
    "sorted_array1 = np.sort(org_array) # 순수 함수\n",
    "print(sorted_array1)"
   ]
  },
  {
   "cell_type": "code",
   "execution_count": 65,
   "id": "14441171",
   "metadata": {},
   "outputs": [
    {
     "name": "stdout",
     "output_type": "stream",
     "text": [
      "None\n",
      "[1 3 5 9]\n"
     ]
    }
   ],
   "source": [
    "sorted_array2 = org_array.sort()\n",
    "print(sorted_array2)\n",
    "print(org_array)"
   ]
  },
  {
   "cell_type": "code",
   "execution_count": 66,
   "id": "ac93585b",
   "metadata": {},
   "outputs": [
    {
     "name": "stdout",
     "output_type": "stream",
     "text": [
      "[[ 7  1]\n",
      " [ 8 12]]\n",
      "[[ 8 12]\n",
      " [ 1  7]]\n"
     ]
    }
   ],
   "source": [
    "array2d = np.array([\n",
    "    [8, 12],\n",
    "    [7, 1]\n",
    "])\n",
    "\n",
    "array2d_axis0 = np.sort(array2d, axis=0)\n",
    "array2d_axis1 = np.sort(array2d, axis=1)\n",
    "\n",
    "print(array2d_axis0)\n",
    "print(array2d_axis1)"
   ]
  },
  {
   "cell_type": "markdown",
   "id": "2125c07e",
   "metadata": {},
   "source": [
    "Numpy는 key-value 구조로 사용할 수 없어서 argsort가 꽤 유용"
   ]
  },
  {
   "cell_type": "code",
   "execution_count": 69,
   "id": "a16471f4",
   "metadata": {},
   "outputs": [
    {
     "name": "stdout",
     "output_type": "stream",
     "text": [
      "[1 3 0 2]\n"
     ]
    }
   ],
   "source": [
    "sort_indices = np.argsort(np.array([8, 1, 9, 3]))\n",
    "print(sort_indices)"
   ]
  },
  {
   "cell_type": "code",
   "execution_count": 70,
   "id": "a34c3fe9",
   "metadata": {},
   "outputs": [
    {
     "name": "stdout",
     "output_type": "stream",
     "text": [
      "성적 오름차순 :  ['John' 'Sarah' 'Samuel' 'Mike' 'Kate']\n"
     ]
    }
   ],
   "source": [
    "names = np.array(['John', 'Mike', \"Sarah\", \"Kate\", \"Samuel\"])\n",
    "scores = np.array([76, 95, 84, 98, 88])\n",
    "\n",
    "sort_indices_asc = np.argsort(scores)\n",
    "print(\"성적 오름차순 : \", names[sort_indices_asc])"
   ]
  },
  {
   "cell_type": "markdown",
   "id": "aef948eb",
   "metadata": {},
   "source": [
    "선형대수 연산 - 행렬 내적과 전치 행렬"
   ]
  },
  {
   "cell_type": "code",
   "execution_count": 71,
   "id": "ae515d09",
   "metadata": {},
   "outputs": [
    {
     "name": "stdout",
     "output_type": "stream",
     "text": [
      "[[ 58  64]\n",
      " [139 154]]\n"
     ]
    }
   ],
   "source": [
    "A = np.array([\n",
    "    [1,2,3],\n",
    "    [4,5,6]\n",
    "])\n",
    "B = np.array([\n",
    "    [7,8],\n",
    "    [9,10],\n",
    "    [11,12]\n",
    "])\n",
    "\n",
    "dot_product = np.dot(A, B)\n",
    "print(dot_product)"
   ]
  },
  {
   "cell_type": "code",
   "execution_count": 72,
   "id": "9e24920e",
   "metadata": {},
   "outputs": [
    {
     "name": "stdout",
     "output_type": "stream",
     "text": [
      "[[1 4]\n",
      " [2 5]\n",
      " [3 6]]\n"
     ]
    }
   ],
   "source": [
    "print(np.transpose(A))"
   ]
  }
 ],
 "metadata": {
  "kernelspec": {
   "display_name": "Python 3 (ipykernel)",
   "language": "python",
   "name": "python3"
  },
  "language_info": {
   "codemirror_mode": {
    "name": "ipython",
    "version": 3
   },
   "file_extension": ".py",
   "mimetype": "text/x-python",
   "name": "python",
   "nbconvert_exporter": "python",
   "pygments_lexer": "ipython3",
   "version": "3.11.5"
  }
 },
 "nbformat": 4,
 "nbformat_minor": 5
}
